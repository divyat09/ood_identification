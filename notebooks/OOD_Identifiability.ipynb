{
 "cells": [
  {
   "cell_type": "code",
   "execution_count": 1,
   "id": "essential-seeking",
   "metadata": {},
   "outputs": [],
   "source": [
    "import torch\n",
    "import torch.utils.data\n",
    "from torch import nn, optim\n",
    "from torch.nn import functional as F\n",
    "from torchvision import datasets, transforms\n",
    "from torchvision.utils import save_image\n",
    "from torch.autograd import Variable\n",
    "\n",
    "import numpy as np\n",
    "import matplotlib.pyplot as plt\n",
    "from scipy import stats"
   ]
  },
  {
   "cell_type": "markdown",
   "id": "pressing-gilbert",
   "metadata": {},
   "source": [
    "## Synthetic Dataset\n",
    "\n",
    "- z ~ N(0, I) \n",
    "- x = 10 + z^3 (Invertible DGP)\n",
    "- y = I( Sum_{i}(z_{i}) > 0 ) (True Prediction Function)\n",
    "\n",
    "The marginal distribution p(z_{i}) will be normal distribution (z is multivariate normal); therefore sum over z_{i} would be gaussian distribution with zero mean"
   ]
  },
  {
   "cell_type": "code",
   "execution_count": 2,
   "id": "elegant-blast",
   "metadata": {},
   "outputs": [],
   "source": [
    "data_dim= 2\n",
    "num_classes= 2\n",
    "train_size= 500\n",
    "test_size= 100"
   ]
  },
  {
   "cell_type": "markdown",
   "id": "increasing-negotiation",
   "metadata": {},
   "source": [
    "## Data Generation"
   ]
  },
  {
   "cell_type": "code",
   "execution_count": 3,
   "id": "phantom-frame",
   "metadata": {},
   "outputs": [],
   "source": [
    "# Sample z from multivariate normal distribution\n",
    "train_z= np.random.multivariate_normal(np.zeros(data_dim), np.eye(data_dim), train_size)\n",
    "test_z= np.random.multivariate_normal(np.zeros(data_dim), np.eye(data_dim), test_size)"
   ]
  },
  {
   "cell_type": "code",
   "execution_count": 4,
   "id": "developing-credits",
   "metadata": {},
   "outputs": [],
   "source": [
    "# Sample x and y conditioned on the true latent z\n",
    "train_x=  0.1 + (train_z)**3\n",
    "train_y= 1*(np.sum(train_z, axis=1) > 0)\n",
    "\n",
    "test_x= 0.1 + (test_z)**3\n",
    "test_y= 1*(np.sum(test_z, axis=1) > 0)"
   ]
  },
  {
   "cell_type": "code",
   "execution_count": 5,
   "id": "tested-operation",
   "metadata": {},
   "outputs": [
    {
     "data": {
      "text/plain": [
       "Text(0, 0.5, 'Class Label y')"
      ]
     },
     "execution_count": 5,
     "metadata": {},
     "output_type": "execute_result"
    },
    {
     "data": {
      "image/png": "[encoded data removed]",
      "text/plain": [
       "<Figure size 432x288 with 1 Axes>"
      ]
     },
     "metadata": {
      "needs_background": "light"
     },
     "output_type": "display_data"
    }
   ],
   "source": [
    "plt.plot(np.sum(train_x, axis=1), train_y, '.')\n",
    "# plt.xlabel('Latent z')\n",
    "plt.xlabel('Data x')\n",
    "plt.ylabel('Class Label y')"
   ]
  },
  {
   "cell_type": "markdown",
   "id": "gross-sewing",
   "metadata": {},
   "source": [
    "## Model Architecture"
   ]
  },
  {
   "cell_type": "code",
   "execution_count": 6,
   "id": "younger-cosmetic",
   "metadata": {},
   "outputs": [],
   "source": [
    "# Defining the fully connected network\n",
    "class FC(torch.nn.Module):          \n",
    "     \n",
    "    def __init__(self, inp_dim, classes):     \n",
    "        super(FC, self).__init__()\n",
    "                \n",
    "        self.inp_dim= inp_dim\n",
    "        self.classes= classes\n",
    "        self.rep_net= nn.Sequential(                    \n",
    "                    nn.Linear(inp_dim, inp_dim),\n",
    "                    nn.ReLU(),\n",
    "                    nn.Linear(inp_dim, inp_dim),\n",
    "        )\n",
    "        \n",
    "        self.fc_net= nn.Sequential(                    \n",
    "                    nn.Linear(inp_dim, classes)\n",
    "        )\n",
    "        \n",
    "        \n",
    "    def forward(self, x):        \n",
    "        out= self.rep_net(x)\n",
    "        out= self.fc_net(out)\n",
    "        return out"
   ]
  },
  {
   "cell_type": "code",
   "execution_count": 7,
   "id": "cosmetic-alfred",
   "metadata": {},
   "outputs": [
    {
     "name": "stdout",
     "output_type": "stream",
     "text": [
      "FC(\n",
      "  (rep_net): Sequential(\n",
      "    (0): Linear(in_features=2, out_features=2, bias=True)\n",
      "    (1): ReLU()\n",
      "    (2): Linear(in_features=2, out_features=2, bias=True)\n",
      "  )\n",
      "  (fc_net): Sequential(\n",
      "    (0): Linear(in_features=2, out_features=2, bias=True)\n",
      "  )\n",
      ")\n"
     ]
    }
   ],
   "source": [
    "model= FC(data_dim, num_classes)\n",
    "print(model)"
   ]
  },
  {
   "cell_type": "markdown",
   "id": "simple-egyptian",
   "metadata": {},
   "source": [
    "## Training the model"
   ]
  },
  {
   "cell_type": "code",
   "execution_count": 8,
   "id": "christian-usage",
   "metadata": {},
   "outputs": [],
   "source": [
    "batch_size= 16\n",
    "lr= 0.01\n",
    "num_epochs= 20\n",
    "opt= optim.SGD([\n",
    "                {'params': filter(lambda p: p.requires_grad, model.parameters()) }, \n",
    "                ], lr= lr, weight_decay= 5e-4, momentum= 0.9,  nesterov=True ) "
   ]
  },
  {
   "cell_type": "code",
   "execution_count": 9,
   "id": "independent-senior",
   "metadata": {},
   "outputs": [],
   "source": [
    "# Partition into batches\n",
    "train_split_x= np.array_split( train_x, train_x.shape[0]//batch_size ,axis=0 )\n",
    "train_split_y= np.array_split( train_y, train_y.shape[0]//batch_size ,axis=0 )\n",
    "total_batches= len(train_split_x)"
   ]
  },
  {
   "cell_type": "code",
   "execution_count": 10,
   "id": "human-sewing",
   "metadata": {},
   "outputs": [
    {
     "name": "stdout",
     "output_type": "stream",
     "text": [
      "Epoch:  0\n",
      "Train Loss:  0.5771851308884159\n",
      "Train Accuracy:  71.6\n",
      "Epoch:  1\n",
      "Train Loss:  0.34377051745691606\n",
      "Train Accuracy:  86.8\n",
      "Epoch:  2\n",
      "Train Loss:  0.2205292249639188\n",
      "Train Accuracy:  92.8\n",
      "Epoch:  3\n",
      "Train Loss:  0.15799623529516882\n",
      "Train Accuracy:  96.0\n",
      "Epoch:  4\n",
      "Train Loss:  0.13379026781166753\n",
      "Train Accuracy:  96.0\n",
      "Epoch:  5\n",
      "Train Loss:  0.12033282526798787\n",
      "Train Accuracy:  95.6\n",
      "Epoch:  6\n",
      "Train Loss:  0.11090497239943474\n",
      "Train Accuracy:  95.6\n",
      "Epoch:  7\n",
      "Train Loss:  0.10370356711228529\n",
      "Train Accuracy:  95.6\n",
      "Epoch:  8\n",
      "Train Loss:  0.09792347724038747\n",
      "Train Accuracy:  95.6\n",
      "Epoch:  9\n",
      "Train Loss:  0.09313418083043108\n",
      "Train Accuracy:  95.6\n",
      "Epoch:  10\n",
      "Train Loss:  0.08907812860824409\n",
      "Train Accuracy:  95.6\n",
      "Epoch:  11\n",
      "Train Loss:  0.08556651215129081\n",
      "Train Accuracy:  95.6\n",
      "Epoch:  12\n",
      "Train Loss:  0.08248542084343612\n",
      "Train Accuracy:  95.6\n",
      "Epoch:  13\n",
      "Train Loss:  0.07975484424030348\n",
      "Train Accuracy:  95.8\n",
      "Epoch:  14\n",
      "Train Loss:  0.0773077646548289\n",
      "Train Accuracy:  95.8\n",
      "Epoch:  15\n",
      "Train Loss:  0.07509834252132644\n",
      "Train Accuracy:  95.8\n",
      "Epoch:  16\n",
      "Train Loss:  0.07308969592239949\n",
      "Train Accuracy:  96.0\n",
      "Epoch:  17\n",
      "Train Loss:  0.07125414737815698\n",
      "Train Accuracy:  96.2\n",
      "Epoch:  18\n",
      "Train Loss:  0.06956588873647214\n",
      "Train Accuracy:  96.8\n",
      "Epoch:  19\n",
      "Train Loss:  0.06800619040844932\n",
      "Train Accuracy:  97.0\n"
     ]
    }
   ],
   "source": [
    "for epoch in range(num_epochs):\n",
    "    train_loss= 0.0\n",
    "    train_acc= 0.0\n",
    "    for batch_num in range(total_batches):\n",
    "        \n",
    "        \n",
    "        batch_x= torch.tensor( train_split_x[batch_num] ).float()\n",
    "        batch_y= torch.tensor( train_split_y[batch_num] ).long()\n",
    "        \n",
    "        #Forward Pass\n",
    "        out= model(batch_x)\n",
    "        loss= F.cross_entropy(out, batch_y)\n",
    "        \n",
    "        #Backward Pass\n",
    "        loss.backward()\n",
    "        opt.step()\n",
    "        opt.zero_grad()\n",
    "        \n",
    "        #Logging\n",
    "        train_loss+= loss.item()\n",
    "        train_acc+= torch.sum( torch.argmax(out, dim=1) == batch_y ).item()\n",
    "        \n",
    "    print('Epoch: ', epoch)\n",
    "    print('Train Loss: ', train_loss/total_batches)\n",
    "    print('Train Accuracy: ', 100*train_acc/train_size)"
   ]
  },
  {
   "cell_type": "markdown",
   "id": "moving-listing",
   "metadata": {},
   "source": [
    "## Evaluate the model"
   ]
  },
  {
   "cell_type": "code",
   "execution_count": 11,
   "id": "beautiful-rendering",
   "metadata": {},
   "outputs": [
    {
     "data": {
      "text/plain": [
       "FC(\n",
       "  (rep_net): Sequential(\n",
       "    (0): Linear(in_features=2, out_features=2, bias=True)\n",
       "    (1): ReLU()\n",
       "    (2): Linear(in_features=2, out_features=2, bias=True)\n",
       "  )\n",
       "  (fc_net): Sequential(\n",
       "    (0): Linear(in_features=2, out_features=2, bias=True)\n",
       "  )\n",
       ")"
      ]
     },
     "execution_count": 11,
     "metadata": {},
     "output_type": "execute_result"
    }
   ],
   "source": [
    "model.eval()"
   ]
  },
  {
   "cell_type": "code",
   "execution_count": 12,
   "id": "primary-kentucky",
   "metadata": {},
   "outputs": [],
   "source": [
    "# Partition into batches\n",
    "test_split_x= np.array_split( test_x, test_x.shape[0]//batch_size ,axis=0 )\n",
    "test_split_y= np.array_split( test_y, test_y.shape[0]//batch_size ,axis=0 )\n",
    "total_batches= len(test_split_x)"
   ]
  },
  {
   "cell_type": "markdown",
   "id": "meaningful-richards",
   "metadata": {},
   "source": [
    "### Test Accuracy"
   ]
  },
  {
   "cell_type": "code",
   "execution_count": 13,
   "id": "inside-liberal",
   "metadata": {},
   "outputs": [
    {
     "name": "stdout",
     "output_type": "stream",
     "text": [
      "Test Accuracy:  99.0\n"
     ]
    }
   ],
   "source": [
    "with torch.no_grad():\n",
    "    \n",
    "    test_acc= 0.0\n",
    "    for batch_num in range(total_batches):\n",
    "        \n",
    "        batch_x= torch.tensor( test_split_x[batch_num] ).float()\n",
    "        batch_y= torch.tensor( test_split_y[batch_num] ).long()\n",
    "        \n",
    "        #Forward Pass\n",
    "        out= model(batch_x)\n",
    "                \n",
    "        #Logging\n",
    "        test_acc+= torch.sum( torch.argmax(out, dim=1) == batch_y ).item()\n",
    "        \n",
    "print('Test Accuracy: ', 100*test_acc/test_size)"
   ]
  },
  {
   "cell_type": "markdown",
   "id": "young-defendant",
   "metadata": {},
   "source": [
    "### Correlation between (true, predicted) latent"
   ]
  },
  {
   "cell_type": "code",
   "execution_count": 14,
   "id": "sweet-questionnaire",
   "metadata": {},
   "outputs": [],
   "source": [
    "pred_latent= []\n",
    "with torch.no_grad():\n",
    "    for batch_num in range(total_batches):\n",
    "        \n",
    "        batch_x= torch.tensor( test_split_x[batch_num] ).float()        \n",
    "        rep= model.rep_net(batch_x)\n",
    "        pred_latent.append(rep)    \n",
    "\n",
    "pred_latent= np.concatenate(pred_latent)"
   ]
  },
  {
   "cell_type": "code",
   "execution_count": 15,
   "id": "julian-civilian",
   "metadata": {},
   "outputs": [
    {
     "data": {
      "text/plain": [
       "(0.8643226676194318, 5.193679616635632e-31)"
      ]
     },
     "execution_count": 15,
     "metadata": {},
     "output_type": "execute_result"
    }
   ],
   "source": [
    "from sklearn.cross_decomposition import CCA\n",
    "cca= CCA(n_components=1)\n",
    "cca.fit(pred_latent, test_z)\n",
    "X_c, Y_c = cca.transform(pred_latent, test_z)\n",
    "stats.pearsonr(X_c[:, 0], Y_c[:, 0])"
   ]
  },
  {
   "cell_type": "code",
   "execution_count": null,
   "id": "heavy-tactics",
   "metadata": {},
   "outputs": [],
   "source": []
  }
 ],
 "metadata": {
  "kernelspec": {
   "display_name": "matchdg-env",
   "language": "python",
   "name": "matchdg-env"
  },
  "language_info": {
   "codemirror_mode": {
    "name": "ipython",
    "version": 3
   },
   "file_extension": ".py",
   "mimetype": "text/x-python",
   "name": "python",
   "nbconvert_exporter": "python",
   "pygments_lexer": "ipython3",
   "version": "3.7.9"
  }
 },
 "nbformat": 4,
 "nbformat_minor": 5
}
