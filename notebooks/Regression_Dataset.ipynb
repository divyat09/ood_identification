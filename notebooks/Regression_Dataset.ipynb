{
 "cells": [
  {
   "cell_type": "code",
   "execution_count": null,
   "id": "impaired-capability",
   "metadata": {},
   "outputs": [],
   "source": [
    "import sys\n",
    "import os\n",
    "import argparse\n",
    "import random\n",
    "import copy\n",
    "import os \n",
    "\n",
    "import numpy as np\n",
    "from scipy import stats\n",
    "import matplotlib.pyplot as plt"
   ]
  },
  {
   "cell_type": "code",
   "execution_count": null,
   "id": "developmental-lewis",
   "metadata": {},
   "outputs": [],
   "source": [
    "def sigmoid(x):\n",
    "    return 1 / (1 + np.exp(-x))"
   ]
  },
  {
   "cell_type": "code",
   "execution_count": null,
   "id": "ordered-passing",
   "metadata": {},
   "outputs": [],
   "source": [
    "seed= 10\n",
    "random.seed(seed*10)\n",
    "np.random.seed(seed*10) "
   ]
  },
  {
   "cell_type": "code",
   "execution_count": null,
   "id": "verified-criminal",
   "metadata": {},
   "outputs": [],
   "source": [
    "data_dim= 2\n",
    "num_tasks= 2\n",
    "data_case= 'train'\n",
    "train_size= 500\n",
    "test_size= 100\n",
    "\n",
    "if data_case == 'train':\n",
    "    dataset_size= train_size\n",
    "elif data_case == 'test':\n",
    "    dataset_size= test_size"
   ]
  },
  {
   "cell_type": "code",
   "execution_count": null,
   "id": "funny-failing",
   "metadata": {},
   "outputs": [],
   "source": [
    "# z= np.random.multivariate_normal(np.zeros(data_dim), np.eye(data_dim), dataset_size)\n",
    "\n",
    "z= np.zeros((dataset_size, data_dim))\n",
    "for i in range(data_dim):\n",
    "    z[:, i]= np.random.laplace(0, 1, dataset_size)\n",
    "\n",
    "#Transformation Functions\n",
    "A1 = 0.5*np.random.rand(data_dim, data_dim)\n",
    "A2 = 0.1*np.random.rand(data_dim, data_dim)\n",
    "# A = 0.5*np.dot(A, A.transpose())\n",
    "g = np.random.rand(data_dim, num_tasks)\n",
    "\n",
    "# Sample x and y conditioned on the true latent z\n",
    "x= np.matmul(z, A1) \n",
    "x= sigmoid(x)\n",
    "# x= np.matmul(x, A2) \n",
    "\n",
    "y_c= 10\n",
    "y= y_c*np.dot(z, g) + np.random.multivariate_normal(np.zeros(num_tasks), np.eye(num_tasks), dataset_size)"
   ]
  },
  {
   "cell_type": "code",
   "execution_count": null,
   "id": "therapeutic-drilling",
   "metadata": {},
   "outputs": [],
   "source": [
    "np.std(y)"
   ]
  },
  {
   "cell_type": "code",
   "execution_count": null,
   "id": "specific-winning",
   "metadata": {},
   "outputs": [],
   "source": [
    "plt.plot(np.sum(z, axis=1), y, '.')\n",
    "# plt.xlabel('Latent z'aaa)\n",
    "plt.xlabel('Data x')\n",
    "plt.ylabel('Class Label y')"
   ]
  },
  {
   "cell_type": "code",
   "execution_count": null,
   "id": "handled-falls",
   "metadata": {},
   "outputs": [],
   "source": [
    "plt.scatter(x[:, 0], x[:, 1])"
   ]
  },
  {
   "cell_type": "code",
   "execution_count": null,
   "id": "conceptual-spelling",
   "metadata": {},
   "outputs": [],
   "source": [
    "plt.scatter(z[:, 0], z[:, 1])"
   ]
  },
  {
   "cell_type": "code",
   "execution_count": null,
   "id": "compressed-hospital",
   "metadata": {},
   "outputs": [],
   "source": [
    "x.shape"
   ]
  },
  {
   "cell_type": "code",
   "execution_count": null,
   "id": "cardiovascular-north",
   "metadata": {},
   "outputs": [],
   "source": [
    "plt.scatter(z[:, 0], x[:, 0])"
   ]
  },
  {
   "cell_type": "code",
   "execution_count": null,
   "id": "weighted-counter",
   "metadata": {},
   "outputs": [],
   "source": [
    "plt.scatter(z[:, 1], x[:, 1])"
   ]
  },
  {
   "cell_type": "code",
   "execution_count": null,
   "id": "armed-reduction",
   "metadata": {},
   "outputs": [],
   "source": [
    "np.mean(x)"
   ]
  },
  {
   "cell_type": "code",
   "execution_count": null,
   "id": "natural-packaging",
   "metadata": {},
   "outputs": [],
   "source": [
    "np.mean(z)"
   ]
  },
  {
   "cell_type": "code",
   "execution_count": null,
   "id": "distinct-chicago",
   "metadata": {},
   "outputs": [],
   "source": [
    "Linear Regression Approximation between z and z_hat\n",
    "[[  6.049838   10.150847  -21.826588    4.64385   -20.14035  ]\n",
    " [ 18.410906  -18.582125   -3.114055   -7.80445   -40.31162  ]\n",
    " [ 25.216389    4.2203956  12.034031  -15.12596   -23.0122   ]\n",
    " [-19.536152   -4.063727   -5.030505   10.849738   21.004234 ]\n",
    " [ 11.435124    4.5655494 -13.8809805  -1.9925435 -25.165222 ]]\n",
    "Pred Error:  0.73246706\n",
    "\n",
    "Post ICA Transformation\n",
    "[[  0.70669599  -2.10270799  -2.8354034   -9.67472249  -8.90041929]\n",
    " [  0.10337354 -14.20602796   1.12044121   3.07013307   3.49415741]\n",
    " [ -0.59447488  -0.6962009   11.53939618  -2.04649542  -3.19800994]\n",
    " [ 10.82954496   1.52286244  -0.21092333   2.31641216   0.05143906]\n",
    " [ -3.7142119    1.11343704  -1.47110817   8.95021551 -11.65008971]]\n",
    "Pred Error:  0.34984440210874906"
   ]
  },
  {
   "cell_type": "code",
   "execution_count": null,
   "id": "dental-color",
   "metadata": {},
   "outputs": [],
   "source": [
    "Linear Regression Approximation between z and z_hat\n",
    "[[ -6.4244184   -6.927803    12.751406     6.0132165   -7.0129275 ]\n",
    " [-14.594966   -50.574974    75.35876     23.695633   -23.184736  ]\n",
    " [  1.9921079  -19.290482    26.089315     8.663521    -8.123807  ]\n",
    " [  6.5176144   12.724506   -21.75135     -5.857891     7.1009626 ]\n",
    " [ 13.102096    -7.434321     2.1955156    1.7568803   -0.65683466]]\n",
    "Pred Error:  0.37177673\n",
    "\n",
    "Post ICA Transformation\n",
    "[[  0.25624251  13.59280582  -1.5791155   -2.95521855  -2.58575073]\n",
    " [  0.3269162   -0.10464218 -11.81800385   1.99640337   4.97575928]\n",
    " [ -0.04245726  -2.01236955   1.89301039  -9.28385086  11.15256887]\n",
    " [ 12.15785416   0.65547101   0.02761879  -0.60598284   3.64472506]\n",
    " [ -0.5767253    1.70970285   3.70593621   9.08926575   8.54484845]]\n",
    "Pred Error:  0.35048875439927685"
   ]
  },
  {
   "cell_type": "code",
   "execution_count": null,
   "id": "manual-briefing",
   "metadata": {},
   "outputs": [],
   "source": [
    "Linear Regression Approximation between z and z_hat\n",
    "[[-0.6529966  -1.7203861   0.9482305   1.9980783  -1.5809798 ]\n",
    " [-1.8587275  -7.8528523   3.2987664   3.899995    0.13496348]\n",
    " [-0.14222701 -3.8234925   2.346842    2.2162235  -0.9288836 ]\n",
    " [ 0.81748056  3.6788013  -2.337509   -0.8575886   0.35443935]\n",
    " [ 0.866105   -1.6341057  -0.1403562   0.17782313  0.60655063]]\n",
    "Pred Error:  0.57224375\n",
    "\n",
    "Post ICA Transformation\n",
    "[[ -0.95776637   1.37624983 -12.39369366   1.36594289   2.73797685]\n",
    " [ 10.79137674   0.58886904  -1.86937009   3.60632231  -4.22609616]\n",
    " [ -1.12054093   3.56929828   3.01197652  10.3292583    4.90741342]\n",
    " [ -0.19764359  12.98817779   0.37968225  -4.35765619  -2.88557206]\n",
    " [  6.44575534  -1.63633801   0.77942827  -4.72127671  13.3372025 ]]\n",
    "Pred Error:  0.3719719336722741\n"
   ]
  }
 ],
 "metadata": {
  "kernelspec": {
   "display_name": "matchdg-env",
   "language": "python",
   "name": "matchdg-env"
  },
  "language_info": {
   "codemirror_mode": {
    "name": "ipython",
    "version": 3
   },
   "file_extension": ".py",
   "mimetype": "text/x-python",
   "name": "python",
   "nbconvert_exporter": "python",
   "pygments_lexer": "ipython3",
   "version": "3.7.9"
  }
 },
 "nbformat": 4,
 "nbformat_minor": 5
}
