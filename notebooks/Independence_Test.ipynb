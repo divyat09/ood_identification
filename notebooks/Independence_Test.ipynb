{
 "cells": [
  {
   "cell_type": "code",
   "execution_count": null,
   "id": "a44ae320-df3f-41d7-a55d-61b80ea912ff",
   "metadata": {},
   "outputs": [],
   "source": [
    "import numpy as np\n",
    "import rpy2.robjects as ro\n",
    "import rpy2.robjects.numpy2ri\n",
    "rpy2.robjects.numpy2ri.activate()"
   ]
  },
  {
   "cell_type": "code",
   "execution_count": null,
   "id": "58229d5a-27f4-435d-bad9-8778a49b4ee6",
   "metadata": {},
   "outputs": [],
   "source": [
    "%load_ext rpy2.ipython"
   ]
  },
  {
   "cell_type": "code",
   "execution_count": null,
   "id": "2a7eb326-7086-416d-92e1-9ae9c83efa46",
   "metadata": {},
   "outputs": [],
   "source": [
    "%%R\n",
    "library(devtools)\n",
    "install_github(\"ericstrobl/RCIT\")\n",
    "library(RCIT)"
   ]
  },
  {
   "cell_type": "code",
   "execution_count": null,
   "id": "b0228fb5-9836-4ab4-9e64-daee14966c14",
   "metadata": {},
   "outputs": [],
   "source": [
    "def convertPtoR(var):\n",
    "    nr,nc = var.shape\n",
    "    var_R = ro.r.matrix(var, nrow=nr, ncol=nc)\n",
    "    return var_R"
   ]
  },
  {
   "cell_type": "code",
   "execution_count": null,
   "id": "e95e1d87-0d04-46dc-87b2-a0682723167e",
   "metadata": {},
   "outputs": [],
   "source": [
    "ica_z= np.load('ica_z_te.npy')\n",
    "pred_z= np.load('pred_z_te.npy')\n",
    "true_z= np.load('true_z_te.npy')\n",
    "\n",
    "ica_x= np.load('ica_x_te.npy')\n",
    "\n",
    "d= ica_x.shape[1]\n",
    "n= ica_x.shape[0]"
   ]
  },
  {
   "cell_type": "code",
   "execution_count": null,
   "id": "12fa21e0-78fa-44a3-b49a-ee61e95bfd19",
   "metadata": {},
   "outputs": [],
   "source": [
    "ica_x.shape"
   ]
  },
  {
   "cell_type": "code",
   "execution_count": null,
   "id": "f6742462-4d51-440c-9180-931475667a62",
   "metadata": {},
   "outputs": [],
   "source": [
    "for i in range(d):\n",
    "    ro.r.assign(\"a_\" + str(i), convertPtoR(np.reshape(ica_x[:,i], (n, 1))))"
   ]
  },
  {
   "cell_type": "code",
   "execution_count": null,
   "id": "88a208a8-7af9-4e28-b65e-7840d41517ed",
   "metadata": {},
   "outputs": [],
   "source": [
    "%%R\n",
    "x <- c(2,5,3,9,8,11,6)\n",
    "count <- 0\n",
    "for (val in x) {\n",
    "if(val %% 2 == 0)  count = count+1\n",
    "}\n",
    "print(count)"
   ]
  },
  {
   "cell_type": "code",
   "execution_count": null,
   "id": "7160938b-ca52-4e5b-ba08-d76dcd4fc518",
   "metadata": {},
   "outputs": [],
   "source": [
    "%%R\n",
    "print(RCoT(a_0, a_0))\n",
    "print(RCoT(a_0, a_1))\n",
    "print(RCoT(a_1, a_1))"
   ]
  },
  {
   "cell_type": "markdown",
   "id": "7d55a86f-245a-4027-92cc-dd4dd3f625c7",
   "metadata": {},
   "source": [
    "If a, b are dependent implies low p (p < 0.05) value\n",
    "\n",
    "Contrapositive\n",
    "\n",
    "High p (p>0.05) value implies a, b are independent\n",
    "\n",
    "MCC is necessary for but sufficient for Permutation Identifiability\n",
    "\n",
    "Bigger issue: Why ICA does not give us independence?"
   ]
  },
  {
   "cell_type": "code",
   "execution_count": null,
   "id": "fb4a28f9-ab3a-42c3-ac93-1adbc43063c2",
   "metadata": {},
   "outputs": [],
   "source": [
    "x= np.random.rand(10,10)"
   ]
  },
  {
   "cell_type": "code",
   "execution_count": null,
   "id": "b4ec726f-11dc-453b-a5ae-ab01f09d9973",
   "metadata": {},
   "outputs": [],
   "source": [
    "x= np.random.rand(2,2,2)\n",
    "y= np.random.rand(2,2,2)"
   ]
  },
  {
   "cell_type": "code",
   "execution_count": null,
   "id": "ad554fef-25a3-42ca-9994-c65283d97cb4",
   "metadata": {},
   "outputs": [],
   "source": [
    "np.sum(np.dot(x,y))"
   ]
  },
  {
   "cell_type": "code",
   "execution_count": null,
   "id": "e99fbd84-0448-44c5-97f8-503d51cf0fdc",
   "metadata": {},
   "outputs": [],
   "source": [
    "x[:,:10].shape"
   ]
  },
  {
   "cell_type": "code",
   "execution_count": 6,
   "id": "282ac1c8-449e-4622-b849-0eae6978152c",
   "metadata": {},
   "outputs": [],
   "source": [
    "import numpy as np\n",
    "x= np.random.rand(2,2)\n",
    "y= np.random.rand(2,2)"
   ]
  },
  {
   "cell_type": "code",
   "execution_count": 11,
   "id": "5d764dc3-71ba-493b-b1e3-f25f8c13dd79",
   "metadata": {},
   "outputs": [
    {
     "data": {
      "text/plain": [
       "array([[0.07338752, 0.00320578],\n",
       "       [0.02873946, 0.78167802]])"
      ]
     },
     "execution_count": 11,
     "metadata": {},
     "output_type": "execute_result"
    }
   ],
   "source": [
    "x*y.T"
   ]
  },
  {
   "cell_type": "code",
   "execution_count": 8,
   "id": "2adf7884-584e-472d-8a41-2c31088558a5",
   "metadata": {},
   "outputs": [
    {
     "data": {
      "text/plain": [
       "array([[0.0765933 , 0.05825506],\n",
       "       [0.63600816, 0.81041748]])"
      ]
     },
     "execution_count": 8,
     "metadata": {},
     "output_type": "execute_result"
    }
   ],
   "source": [
    "np.dot(x,y)"
   ]
  },
  {
   "cell_type": "code",
   "execution_count": 12,
   "id": "82ca8524-c4c2-48d8-b527-062ddc0b4452",
   "metadata": {},
   "outputs": [],
   "source": [
    "x= np.random.rand(12)"
   ]
  },
  {
   "cell_type": "code",
   "execution_count": 13,
   "id": "68656767-3d20-45c8-a346-b4de0f42155f",
   "metadata": {},
   "outputs": [
    {
     "data": {
      "text/plain": [
       "array([0.90985131, 0.19572691, 0.05819496, 0.3825069 , 0.92692782,\n",
       "       0.38153522, 0.25820476, 0.66045404, 0.77595121, 0.1878009 ,\n",
       "       0.88117624, 0.38388844])"
      ]
     },
     "execution_count": 13,
     "metadata": {},
     "output_type": "execute_result"
    }
   ],
   "source": [
    "x"
   ]
  },
  {
   "cell_type": "code",
   "execution_count": 15,
   "id": "b33bd8c0-810b-4a68-90f5-837d04a656f9",
   "metadata": {},
   "outputs": [
    {
     "data": {
      "text/plain": [
       "array([[[0.90985131, 0.19572691],\n",
       "        [0.05819496, 0.3825069 ]],\n",
       "\n",
       "       [[0.92692782, 0.38153522],\n",
       "        [0.25820476, 0.66045404]],\n",
       "\n",
       "       [[0.77595121, 0.1878009 ],\n",
       "        [0.88117624, 0.38388844]]])"
      ]
     },
     "execution_count": 15,
     "metadata": {},
     "output_type": "execute_result"
    }
   ],
   "source": [
    "np.reshape(x, (3, 2, 2))"
   ]
  },
  {
   "cell_type": "code",
   "execution_count": null,
   "id": "126861b3-bae3-4121-b2c4-9c989c51bb70",
   "metadata": {},
   "outputs": [],
   "source": []
  }
 ],
 "metadata": {
  "kernelspec": {
   "display_name": "ood_identify_env",
   "language": "python",
   "name": "ood_identify_env"
  },
  "language_info": {
   "codemirror_mode": {
    "name": "ipython",
    "version": 3
   },
   "file_extension": ".py",
   "mimetype": "text/x-python",
   "name": "python",
   "nbconvert_exporter": "python",
   "pygments_lexer": "ipython3",
   "version": "3.8.2"
  }
 },
 "nbformat": 4,
 "nbformat_minor": 5
}
